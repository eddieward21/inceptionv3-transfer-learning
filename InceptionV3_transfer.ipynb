{
  "nbformat": 4,
  "nbformat_minor": 0,
  "metadata": {
    "colab": {
      "provenance": [],
      "authorship_tag": "ABX9TyO/UpGHAyPt+mSoe7f3BlM/",
      "include_colab_link": true
    },
    "kernelspec": {
      "name": "python3",
      "display_name": "Python 3"
    },
    "language_info": {
      "name": "python"
    }
  },
  "cells": [
    {
      "cell_type": "markdown",
      "metadata": {
        "id": "view-in-github",
        "colab_type": "text"
      },
      "source": [
        "<a href=\"https://colab.research.google.com/github/eddieward21/transfer-learning/blob/main/InceptionV3_transfer.ipynb\" target=\"_parent\"><img src=\"https://colab.research.google.com/assets/colab-badge.svg\" alt=\"Open In Colab\"/></a>"
      ]
    },
    {
      "cell_type": "code",
      "execution_count": null,
      "metadata": {
        "id": "VQjCSDtY_7Yn"
      },
      "outputs": [],
      "source": [
        "try:\n",
        "  %tensorflow_version 2.x\n",
        "except Exception:\n",
        "  pass"
      ]
    },
    {
      "cell_type": "code",
      "source": [
        "import os\n",
        "import urllib.request\n",
        "import random\n",
        "import zipfile\n",
        "from shutil import copyfile\n",
        "\n",
        "#imports\n",
        "from tensorflow.keras.optimizers import RMSprop #Root Mean Squared Propagation optimization algorithm\n",
        "from tensorflow.keras.applications.inception_v3 import InceptionV3 #the model we will be \"transferring learning\" from\n",
        "from tensorflow.keras import Model #starting point\n",
        "from tensorflow.keras import layers #builds layers of model\n",
        "from tensorflow.keras.preprocessing.image import ImageDataGenerator #creates duplicates of our images that are flipped and rotated\n",
        "\n"
      ],
      "metadata": {
        "id": "rc_qMAMZC8l8"
      },
      "execution_count": 1,
      "outputs": []
    }
  ]
}