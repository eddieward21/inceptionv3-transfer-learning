{
  "nbformat": 4,
  "nbformat_minor": 0,
  "metadata": {
    "colab": {
      "provenance": [],
      "authorship_tag": "ABX9TyM+kHxqzV79pZf7VkrUZ0Wz",
      "include_colab_link": true
    },
    "kernelspec": {
      "name": "python3",
      "display_name": "Python 3"
    },
    "language_info": {
      "name": "python"
    }
  },
  "cells": [
    {
      "cell_type": "markdown",
      "metadata": {
        "id": "view-in-github",
        "colab_type": "text"
      },
      "source": [
        "<a href=\"https://colab.research.google.com/github/eddieward21/transfer-learning/blob/main/InceptionV3_transfer.ipynb\" target=\"_parent\"><img src=\"https://colab.research.google.com/assets/colab-badge.svg\" alt=\"Open In Colab\"/></a>"
      ]
    },
    {
      "cell_type": "code",
      "execution_count": 3,
      "metadata": {
        "id": "VQjCSDtY_7Yn",
        "colab": {
          "base_uri": "https://localhost:8080/"
        },
        "outputId": "a7372e12-44e9-4ae5-b304-7e36eb24f300"
      },
      "outputs": [
        {
          "output_type": "stream",
          "name": "stdout",
          "text": [
            "Colab only includes TensorFlow 2.x; %tensorflow_version has no effect.\n"
          ]
        }
      ],
      "source": [
        "try:\n",
        "  %tensorflow_version 2.x\n",
        "except Exception:\n",
        "  pass"
      ]
    },
    {
      "cell_type": "code",
      "source": [
        "import os\n",
        "import urllib.request\n",
        "import random\n",
        "import zipfile\n",
        "from shutil import copyfile\n",
        "\n",
        "#imports\n",
        "from tensorflow.keras.optimizers import RMSprop #Root Mean Squared Propagation optimization algorithm\n",
        "from tensorflow.keras.applications.inception_v3 import InceptionV3 #the model we will be \"transferring learning\" from\n",
        "from tensorflow.keras import Model #starting point\n",
        "from tensorflow.keras import layers #builds layers of model\n",
        "from tensorflow.keras.preprocessing.image import ImageDataGenerator #creates duplicates of our images that are flipped and rotated\n",
        "\n",
        "\n",
        "#extract zip files from the url into our /tmp/ directory.\n",
        "file_url = \"https://download.microsoft.com/download/3/E/1/3E1C3F21-ECDB-4869-8368-6DEBA77B919F/kagglecatsanddogs_5340.zip\"\n",
        "file_name = \"catsdogs.zip\"\n",
        "download_dir = \"/tmp/\"\n",
        "urllib.request.urlretrieve(file_url, file_name)\n",
        "zipObject = zipfile.ZipFile(file_name, 'r')\n",
        "zipObject.extractall()\n",
        "zipObject.close()"
      ],
      "metadata": {
        "id": "rc_qMAMZC8l8"
      },
      "execution_count": 4,
      "outputs": []
    },
    {
      "cell_type": "code",
      "source": [
        "print(\"number of cat images: \", len(os.listdir(\"/content/PetImages/Cat\")))\n",
        "print(\"number of dog images: \", len(os.listdir(\"/content/PetImages/Dog\")))\n"
      ],
      "metadata": {
        "id": "pTBJdhTKGcW_",
        "colab": {
          "base_uri": "https://localhost:8080/"
        },
        "outputId": "6a4266ff-89f0-4535-dfd4-7befa24dfc94"
      },
      "execution_count": 5,
      "outputs": [
        {
          "output_type": "stream",
          "name": "stdout",
          "text": [
            "number of cat images:  12501\n",
            "number of dog images:  12501\n"
          ]
        }
      ]
    },
    {
      "cell_type": "code",
      "source": [
        "try:\n",
        "    os.mkdir('/content/cats-v-dogs')\n",
        "    os.mkdir('/content/cats-v-dogs/training')\n",
        "    os.mkdir('/content/cats-v-dogs/testing')\n",
        "    os.mkdir('/content/cats-v-dogs/training/cats')\n",
        "    os.mkdir('/content/cats-v-dogs/training/dogs')\n",
        "    os.mkdir('/content/cats-v-dogs/testing/cats')\n",
        "    os.mkdir('/content/cats-v-dogs/testing/dogs')\n",
        "    print(\"Success\")\n",
        "except OSError:\n",
        "    pass"
      ],
      "metadata": {
        "colab": {
          "base_uri": "https://localhost:8080/"
        },
        "id": "qvhDYZS6G4vg",
        "outputId": "36adb8e0-c9f6-41b3-e4cf-d1a3cbe5401e"
      },
      "execution_count": 6,
      "outputs": [
        {
          "output_type": "stream",
          "name": "stdout",
          "text": [
            "Success\n"
          ]
        }
      ]
    },
    {
      "cell_type": "code",
      "source": [
        "import random\n",
        "from shutil import copyfile\n",
        "def split_data(SOURCE, TRAINING, TESTING, SPLIT_SIZE):\n",
        "    files = []\n",
        "    for filename in os.listdir(SOURCE):\n",
        "        file = SOURCE + filename\n",
        "        if os.path.getsize(file) > 0:\n",
        "            files.append(filename)\n",
        "        else:\n",
        "            print(filename + \" is zero length, so ignoring.\")\n",
        "\n",
        "    training_length = int(len(files) * SPLIT_SIZE)\n",
        "    testing_length = int(len(files) - training_length)\n",
        "    shuffled_set = random.sample(files, len(files))\n",
        "    training_set = shuffled_set[0:training_length]\n",
        "    testing_set = shuffled_set[training_length:]\n",
        "\n",
        "    for filename in training_set:\n",
        "        this_file = SOURCE + filename\n",
        "        destination = TRAINING + filename\n",
        "        copyfile(this_file, destination)\n",
        "\n",
        "    for filename in testing_set:\n",
        "        this_file = SOURCE + filename\n",
        "        destination = TESTING + filename\n",
        "        copyfile(this_file, destination)\n",
        "\n",
        "\n",
        "CAT_SOURCE_DIR = \"/content/PetImages/Cat/\"\n",
        "TRAINING_CATS_DIR = \"/content/cats-v-dogs/training/cats/\"\n",
        "TESTING_CATS_DIR = \"/content/cats-v-dogs/testing/cats/\"\n",
        "DOG_SOURCE_DIR = \"/content/PetImages/Dog/\"\n",
        "TRAINING_DOGS_DIR = \"/content/cats-v-dogs/training/dogs/\"\n",
        "TESTING_DOGS_DIR = \"/content/cats-v-dogs/testing/dogs/\"\n",
        "\n",
        "split_size = .9\n",
        "split_data(CAT_SOURCE_DIR, TRAINING_CATS_DIR, TESTING_CATS_DIR, split_size)\n",
        "split_data(DOG_SOURCE_DIR, TRAINING_DOGS_DIR, TESTING_DOGS_DIR, split_size)\n",
        "\n",
        "# Expected output\n",
        "# 666.jpg is zero length, so ignoring\n",
        "# 11702.jpg is zero length, so ignoring"
      ],
      "metadata": {
        "colab": {
          "base_uri": "https://localhost:8080/"
        },
        "id": "XN6zLQkdJ2WM",
        "outputId": "51e2fdd2-0cc8-4628-a468-f659f6c88fdc"
      },
      "execution_count": 7,
      "outputs": [
        {
          "output_type": "stream",
          "name": "stdout",
          "text": [
            "666.jpg is zero length, so ignoring.\n",
            "11702.jpg is zero length, so ignoring.\n"
          ]
        }
      ]
    },
    {
      "cell_type": "code",
      "source": [
        "print(\"Number of training dog images: \", len(os.listdir(TRAINING_DOGS_DIR)))\n",
        "print(\"Number of training cat images: \", len(os.listdir(TRAINING_CATS_DIR)))\n",
        "print(\"Number of testing dog images: \", len(os.listdir(TESTING_DOGS_DIR)))\n",
        "print(\"Number of testing dog images: \", len(os.listdir(TESTING_CATS_DIR)))"
      ],
      "metadata": {
        "colab": {
          "base_uri": "https://localhost:8080/"
        },
        "id": "XKlqHU_o0yzF",
        "outputId": "a844153a-8f54-4820-bb91-065dbf1b38c3"
      },
      "execution_count": 8,
      "outputs": [
        {
          "output_type": "stream",
          "name": "stdout",
          "text": [
            "Number of training dog images:  11250\n",
            "Number of training cat images:  11250\n",
            "Number of testing dog images:  1250\n",
            "Number of testing dog images:  1250\n"
          ]
        }
      ]
    },
    {
      "cell_type": "code",
      "source": [
        "TRAINING_DIR = \"/content/cats-v-dogs/training/\"\n",
        "\n",
        "train_datagen = ImageDataGenerator(\n",
        "    rescale = 1./255,\n",
        "    rotation_range= 40,\n",
        "    width_shift_range = 0.2,\n",
        "    height_shift_range = 0.2,\n",
        "    shear_range = 0.2,\n",
        "    zoom_range = 0.2,\n",
        "    horizontal_flip = True,\n",
        "    fill_mode = \"nearest\"\n",
        "    )\n",
        "\n",
        "train_datagen.flow_from_directory(TRAINING_DIR,\n",
        "                                  batch_size = 100,\n",
        "                                  target_size = (150,150),\n",
        "                                  class_mode = 'binary')\n",
        "\n",
        "VALIDATION_DIR = \"/content/cats-v-dogs/testing/\"\n",
        "\n",
        "validation_datagen = ImageDataGenerator(\n",
        "    rescale = 1./255\n",
        ")\n",
        "validation_generator = validation_datagen.flow_from_directory(\n",
        "    VALIDATION_DIR,\n",
        "    batch_size = 100,\n",
        "    class_mode = \"binary\",\n",
        "    target_size = (150,150)\n",
        ")\n",
        "\n"
      ],
      "metadata": {
        "colab": {
          "base_uri": "https://localhost:8080/"
        },
        "id": "p8kgyLtSeXjA",
        "outputId": "707e64ac-794d-49a1-fbb4-f8f7e88f54a6"
      },
      "execution_count": 9,
      "outputs": [
        {
          "output_type": "stream",
          "name": "stdout",
          "text": [
            "Found 22498 images belonging to 2 classes.\n",
            "Found 2500 images belonging to 2 classes.\n"
          ]
        }
      ]
    },
    {
      "cell_type": "code",
      "source": [
        "weights_url = \"https://storage.googleapis.com/mledu-datasets/inception_v3_weights_tf_dim_ordering_tf_kernels_notop.h5\"\n",
        "weights_file = \"inception_v3.h5\"\n",
        "urllib.request.urlretrieve(weights_url, weights_file)\n",
        "\n",
        "pre_trained_model = InceptionV3(\n",
        "    input_shape = (150,150,3),\n",
        "    weights = None,\n",
        "    include_top = False\n",
        "    )"
      ],
      "metadata": {
        "id": "BOJKArOLjfq3"
      },
      "execution_count": 10,
      "outputs": []
    },
    {
      "cell_type": "code",
      "source": [
        "pre_trained_model.load_weights(weights_file)"
      ],
      "metadata": {
        "id": "nu1Id7lwj_4-"
      },
      "execution_count": 11,
      "outputs": []
    },
    {
      "cell_type": "code",
      "source": [
        "last_layer = pre_trained_model.get_layer(\"mixed7\")\n",
        "print(last_layer.output_shape)\n",
        "output= last_layer.output\n",
        "print(output)"
      ],
      "metadata": {
        "colab": {
          "base_uri": "https://localhost:8080/"
        },
        "id": "pdfI9zv2j_2l",
        "outputId": "97eb97ec-597a-43b2-a062-bd3b3b0971b6"
      },
      "execution_count": 12,
      "outputs": [
        {
          "output_type": "stream",
          "name": "stdout",
          "text": [
            "(None, 7, 7, 768)\n",
            "KerasTensor(type_spec=TensorSpec(shape=(None, 7, 7, 768), dtype=tf.float32, name=None), name='mixed7/concat:0', description=\"created by layer 'mixed7'\")\n"
          ]
        }
      ]
    },
    {
      "cell_type": "code",
      "source": [],
      "metadata": {
        "id": "5hkVz-D-taG2"
      },
      "execution_count": null,
      "outputs": []
    },
    {
      "cell_type": "code",
      "source": [],
      "metadata": {
        "id": "7ebY5WlktaOK"
      },
      "execution_count": null,
      "outputs": []
    }
  ]
}