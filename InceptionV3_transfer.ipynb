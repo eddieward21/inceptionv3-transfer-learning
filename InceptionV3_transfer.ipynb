{
  "nbformat": 4,
  "nbformat_minor": 0,
  "metadata": {
    "colab": {
      "provenance": [],
      "authorship_tag": "ABX9TyOlhBkgeQZtOtVQZnC0Gn2x",
      "include_colab_link": true
    },
    "kernelspec": {
      "name": "python3",
      "display_name": "Python 3"
    },
    "language_info": {
      "name": "python"
    }
  },
  "cells": [
    {
      "cell_type": "markdown",
      "metadata": {
        "id": "view-in-github",
        "colab_type": "text"
      },
      "source": [
        "<a href=\"https://colab.research.google.com/github/eddieward21/transfer-learning/blob/main/InceptionV3_transfer.ipynb\" target=\"_parent\"><img src=\"https://colab.research.google.com/assets/colab-badge.svg\" alt=\"Open In Colab\"/></a>"
      ]
    },
    {
      "cell_type": "code",
      "execution_count": 14,
      "metadata": {
        "id": "VQjCSDtY_7Yn",
        "colab": {
          "base_uri": "https://localhost:8080/"
        },
        "outputId": "80417f51-c557-47e9-9a62-aa0d80a24fde"
      },
      "outputs": [
        {
          "output_type": "stream",
          "name": "stdout",
          "text": [
            "Colab only includes TensorFlow 2.x; %tensorflow_version has no effect.\n"
          ]
        }
      ],
      "source": [
        "try:\n",
        "  %tensorflow_version 2.x\n",
        "except Exception:\n",
        "  pass"
      ]
    },
    {
      "cell_type": "code",
      "source": [
        "import os\n",
        "import urllib.request\n",
        "import random\n",
        "import zipfile\n",
        "from shutil import copyfile\n",
        "\n",
        "#imports\n",
        "from tensorflow.keras.optimizers import RMSprop #Root Mean Squared Propagation optimization algorithm\n",
        "from tensorflow.keras.applications.inception_v3 import InceptionV3 #the model we will be \"transferring learning\" from\n",
        "from tensorflow.keras import Model #starting point\n",
        "from tensorflow.keras import layers #builds layers of model\n",
        "from tensorflow.keras.preprocessing.image import ImageDataGenerator #creates duplicates of our images that are flipped and rotated\n",
        "\n",
        "\n",
        "#extract zip files from the url into our /tmp/ directory.\n",
        "file_url = \"https://download.microsoft.com/download/3/E/1/3E1C3F21-ECDB-4869-8368-6DEBA77B919F/kagglecatsanddogs_5340.zip\"\n",
        "file_name = \"catsdogs.zip\"\n",
        "download_dir = \"/tmp/\"\n",
        "urllib.request.urlretrieve(file_url, file_name)\n",
        "zipObject = zipfile.ZipFile(file_name, 'r')\n",
        "zipObject.extractall()\n",
        "zipObject.close()"
      ],
      "metadata": {
        "id": "rc_qMAMZC8l8"
      },
      "execution_count": 15,
      "outputs": []
    },
    {
      "cell_type": "code",
      "source": [
        "print(\"number of cat images: \", len(os.listdir(\"/content/PetImages/Cat\")))\n",
        "print(\"number of dog images: \", len(os.listdir(\"/content/PetImages/Dog\")))\n"
      ],
      "metadata": {
        "id": "pTBJdhTKGcW_",
        "colab": {
          "base_uri": "https://localhost:8080/"
        },
        "outputId": "1c1c5730-9e24-4154-98c7-f13331b0cfe0"
      },
      "execution_count": 16,
      "outputs": [
        {
          "output_type": "stream",
          "name": "stdout",
          "text": [
            "number of cat images:  12501\n",
            "number of dog images:  12501\n"
          ]
        }
      ]
    },
    {
      "cell_type": "code",
      "source": [
        "try:\n",
        "    os.mkdir('/content/cats-v-dogs')\n",
        "    os.mkdir('/content/cats-v-dogs/training')\n",
        "    os.mkdir('/content/cats-v-dogs/testing')\n",
        "    os.mkdir('/content/cats-v-dogs/training/cats')\n",
        "    os.mkdir('/content/cats-v-dogs/training/dogs')\n",
        "    os.mkdir('/content/cats-v-dogs/testing/cats')\n",
        "    os.mkdir('/content/cats-v-dogs/testing/dogs')\n",
        "    print(\"Success\")\n",
        "except OSError:\n",
        "    pass"
      ],
      "metadata": {
        "id": "qvhDYZS6G4vg"
      },
      "execution_count": 17,
      "outputs": []
    },
    {
      "cell_type": "code",
      "source": [
        "import random\n",
        "from shutil import copyfile\n",
        "def split_data(SOURCE, TRAINING, TESTING, SPLIT_SIZE):\n",
        "    files = []\n",
        "    for filename in os.listdir(SOURCE):\n",
        "        file = SOURCE + filename\n",
        "        if os.path.getsize(file) > 0:\n",
        "            files.append(filename)\n",
        "        else:\n",
        "            print(filename + \" is zero length, so ignoring.\")\n",
        "\n",
        "    training_length = int(len(files) * SPLIT_SIZE)\n",
        "    testing_length = int(len(files) - training_length)\n",
        "    shuffled_set = random.sample(files, len(files))\n",
        "    training_set = shuffled_set[0:training_length]\n",
        "    testing_set = shuffled_set[training_length:]\n",
        "\n",
        "    for filename in training_set:\n",
        "        this_file = SOURCE + filename\n",
        "        destination = TRAINING + filename\n",
        "        copyfile(this_file, destination)\n",
        "\n",
        "    for filename in testing_set:\n",
        "        this_file = SOURCE + filename\n",
        "        destination = TESTING + filename\n",
        "        copyfile(this_file, destination)\n",
        "\n",
        "\n",
        "CAT_SOURCE_DIR = \"/content/PetImages/Cat/\"\n",
        "TRAINING_CATS_DIR = \"/content/cats-v-dogs/training/cats/\"\n",
        "TESTING_CATS_DIR = \"/content/cats-v-dogs/testing/cats/\"\n",
        "DOG_SOURCE_DIR = \"/content/PetImages/Dog/\"\n",
        "TRAINING_DOGS_DIR = \"/content/cats-v-dogs/training/dogs/\"\n",
        "TESTING_DOGS_DIR = \"/content/cats-v-dogs/testing/dogs/\"\n",
        "\n",
        "split_size = .9\n",
        "split_data(CAT_SOURCE_DIR, TRAINING_CATS_DIR, TESTING_CATS_DIR, split_size)\n",
        "split_data(DOG_SOURCE_DIR, TRAINING_DOGS_DIR, TESTING_DOGS_DIR, split_size)\n",
        "\n",
        "# Expected output\n",
        "# 666.jpg is zero length, so ignoring\n",
        "# 11702.jpg is zero length, so ignoring"
      ],
      "metadata": {
        "colab": {
          "base_uri": "https://localhost:8080/"
        },
        "id": "XN6zLQkdJ2WM",
        "outputId": "0652ab62-142f-45fc-bc81-0cbaa91218a7"
      },
      "execution_count": 18,
      "outputs": [
        {
          "output_type": "stream",
          "name": "stdout",
          "text": [
            "666.jpg is zero length, so ignoring.\n",
            "11702.jpg is zero length, so ignoring.\n"
          ]
        }
      ]
    },
    {
      "cell_type": "code",
      "source": [
        "print(\"Number of training dog images: \", len(os.listdir(TRAINING_DOGS_DIR)))\n",
        "print(\"Number of training cat images: \", len(os.listdir(TRAINING_CATS_DIR)))\n",
        "print(\"Number of testing dog images: \", len(os.listdir(TESTING_DOGS_DIR)))\n",
        "print(\"Number of testing dog images: \", len(os.listdir(TESTING_CATS_DIR)))"
      ],
      "metadata": {
        "colab": {
          "base_uri": "https://localhost:8080/"
        },
        "id": "XKlqHU_o0yzF",
        "outputId": "008e2307-5654-435a-a6f6-ba667c2ca7c8"
      },
      "execution_count": 19,
      "outputs": [
        {
          "output_type": "stream",
          "name": "stdout",
          "text": [
            "Number of training dog images:  12380\n",
            "Number of training cat images:  12359\n",
            "Number of testing dog images:  2380\n",
            "Number of testing dog images:  2359\n"
          ]
        }
      ]
    },
    {
      "cell_type": "code",
      "source": [
        "TRAINING_DIR = \"/content/cats-v-dogs/training/\"\n",
        "\n",
        "train_datagen = ImageDataGenerator(\n",
        "    rescale = 1./255,\n",
        "    rotation_range= 40,\n",
        "    width_shift_range = 0.2,\n",
        "    height_shift_range = 0.2,\n",
        "    shear_range = 0.2,\n",
        "    zoom_range = 0.2,\n",
        "    horizontal_flip = True,\n",
        "    fill_mode = \"nearest\"\n",
        "    )\n",
        "\n",
        "train_generator = train_datagen.flow_from_directory(TRAINING_DIR,\n",
        "                                  batch_size = 100,\n",
        "                                  target_size = (150,150),\n",
        "                                  class_mode = 'binary')\n",
        "\n",
        "VALIDATION_DIR = \"/content/cats-v-dogs/testing/\"\n",
        "\n",
        "validation_datagen = ImageDataGenerator(\n",
        "    rescale = 1./255\n",
        ")\n",
        "validation_generator = validation_datagen.flow_from_directory(\n",
        "    VALIDATION_DIR,\n",
        "    batch_size = 100,\n",
        "    class_mode = \"binary\",\n",
        "    target_size = (150,150)\n",
        ")\n",
        "\n"
      ],
      "metadata": {
        "colab": {
          "base_uri": "https://localhost:8080/"
        },
        "id": "p8kgyLtSeXjA",
        "outputId": "f4fbb9fa-dbf0-4d4a-c0a9-e718686cbcac"
      },
      "execution_count": 20,
      "outputs": [
        {
          "output_type": "stream",
          "name": "stdout",
          "text": [
            "Found 24737 images belonging to 2 classes.\n",
            "Found 4739 images belonging to 2 classes.\n"
          ]
        }
      ]
    },
    {
      "cell_type": "code",
      "source": [
        "weights_url = \"https://storage.googleapis.com/mledu-datasets/inception_v3_weights_tf_dim_ordering_tf_kernels_notop.h5\"\n",
        "weights_file = \"inception_v3.h5\"\n",
        "urllib.request.urlretrieve(weights_url, weights_file)\n",
        "\n",
        "pre_trained_model = InceptionV3(\n",
        "    input_shape = (150,150,3),\n",
        "    weights = None,\n",
        "    include_top = False\n",
        "    )"
      ],
      "metadata": {
        "id": "BOJKArOLjfq3"
      },
      "execution_count": 21,
      "outputs": []
    },
    {
      "cell_type": "code",
      "source": [
        "pre_trained_model.load_weights(weights_file)"
      ],
      "metadata": {
        "id": "nu1Id7lwj_4-"
      },
      "execution_count": 22,
      "outputs": []
    },
    {
      "cell_type": "code",
      "source": [
        "last_layer = pre_trained_model.get_layer(\"mixed7\")\n",
        "print(last_layer.output_shape)\n",
        "output= last_layer.output\n",
        "print(output)"
      ],
      "metadata": {
        "colab": {
          "base_uri": "https://localhost:8080/"
        },
        "id": "pdfI9zv2j_2l",
        "outputId": "473bf030-8b3a-4587-8361-2cffaa575768"
      },
      "execution_count": 23,
      "outputs": [
        {
          "output_type": "stream",
          "name": "stdout",
          "text": [
            "(None, 7, 7, 768)\n",
            "KerasTensor(type_spec=TensorSpec(shape=(None, 7, 7, 768), dtype=tf.float32, name=None), name='mixed7/concat:0', description=\"created by layer 'mixed7'\")\n"
          ]
        }
      ]
    },
    {
      "cell_type": "code",
      "source": [
        "x = layers.Flatten()(output)\n",
        "x = layers.Dense(1024, activation = \"relu\")(x)\n",
        "x = layers.Dense(1, activation = \"sigmoid\")(x)\n",
        "model = Model(pre_trained_model.input, x)"
      ],
      "metadata": {
        "id": "5hkVz-D-taG2"
      },
      "execution_count": 24,
      "outputs": []
    },
    {
      "cell_type": "code",
      "source": [
        "model.compile(optimizer = RMSprop(lr=0.001),loss= \"binary_crossentropy\", metrics = ['acc'])\n",
        "\n",
        "history = model.fit(\n",
        "    train_generator,\n",
        "    validation_data = validation_generator,\n",
        "    epochs=2,\n",
        "    verbose=1\n",
        ")"
      ],
      "metadata": {
        "colab": {
          "base_uri": "https://localhost:8080/"
        },
        "id": "7ebY5WlktaOK",
        "outputId": "da53f0e0-74e1-4f23-bee8-cfbdcc67dd0b"
      },
      "execution_count": null,
      "outputs": [
        {
          "output_type": "stream",
          "name": "stderr",
          "text": [
            "WARNING:absl:`lr` is deprecated in Keras optimizer, please use `learning_rate` or use the legacy optimizer, e.g.,tf.keras.optimizers.legacy.RMSprop.\n"
          ]
        },
        {
          "output_type": "stream",
          "name": "stdout",
          "text": [
            "Epoch 1/2\n",
            "  6/248 [..............................] - ETA: 43:55 - loss: 3.4123 - acc: 0.5450"
          ]
        }
      ]
    },
    {
      "cell_type": "code",
      "source": [
        "%matplotlib inline\n",
        "\n",
        "import matplotlib.image  as mpimg\n",
        "import matplotlib.pyplot as plt\n",
        "\n",
        "#-----------------------------------------------------------\n",
        "# Retrieve a list of list results on training and test data\n",
        "# sets for each training epoch\n",
        "#-----------------------------------------------------------\n",
        "acc=history.history['acc']\n",
        "val_acc=history.history['val_acc']\n",
        "loss=history.history['loss']\n",
        "val_loss=history.history['val_loss']\n",
        "\n",
        "epochs=range(len(acc)) # Get number of epochs\n",
        "\n",
        "#------------------------------------------------\n",
        "# Plot training and validation accuracy per epoch\n",
        "#------------------------------------------------\n",
        "plt.plot(epochs, acc, 'r', \"Training Accuracy\")\n",
        "plt.plot(epochs, val_acc, 'b', \"Validation Accuracy\")\n",
        "plt.title('Training and validation accuracy')\n",
        "plt.figure()\n"
      ],
      "metadata": {
        "id": "F4SkumX0w6yJ"
      },
      "execution_count": null,
      "outputs": []
    },
    {
      "cell_type": "code",
      "source": [
        "import numpy as np\n",
        "from google.colab import files\n",
        "from tensorflow.keras.utils import load_img, img_to_array\n",
        "\n",
        "uploaded = files.upload()\n",
        "\n",
        "for fn in uploaded.keys():\n",
        "\n",
        "  # predicting images\n",
        "  path = '/content/' + fn\n",
        "  img = load_img(path, target_size=(150, 150))\n",
        "  x = img_to_array(img)\n",
        "  x /= 255\n",
        "  x = np.expand_dims(x, axis=0)\n",
        "\n",
        "  image_tensor = np.vstack([x])\n",
        "  classes = model.predict(image_tensor)\n",
        "  print(classes[0])\n",
        "  if classes[0]>0.5:\n",
        "    print(fn + \" is a dog\")\n",
        "  else:\n",
        "    print(fn + \" is a cat\")"
      ],
      "metadata": {
        "id": "5u3iYV8ww_gn"
      },
      "execution_count": null,
      "outputs": []
    }
  ]
}