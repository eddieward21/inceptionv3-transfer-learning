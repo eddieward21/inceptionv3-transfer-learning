{
  "nbformat": 4,
  "nbformat_minor": 0,
  "metadata": {
    "colab": {
      "provenance": [],
      "authorship_tag": "ABX9TyPRXK7zvUqgZ0XyOxCDiT8w",
      "include_colab_link": true
    },
    "kernelspec": {
      "name": "python3",
      "display_name": "Python 3"
    },
    "language_info": {
      "name": "python"
    }
  },
  "cells": [
    {
      "cell_type": "markdown",
      "metadata": {
        "id": "view-in-github",
        "colab_type": "text"
      },
      "source": [
        "<a href=\"https://colab.research.google.com/github/eddieward21/transfer-learning/blob/main/InceptionV3_transfer.ipynb\" target=\"_parent\"><img src=\"https://colab.research.google.com/assets/colab-badge.svg\" alt=\"Open In Colab\"/></a>"
      ]
    },
    {
      "cell_type": "code",
      "execution_count": null,
      "metadata": {
        "id": "VQjCSDtY_7Yn"
      },
      "outputs": [],
      "source": [
        "try:\n",
        "  %tensorflow_version 2.x\n",
        "except Exception:\n",
        "  pass"
      ]
    },
    {
      "cell_type": "code",
      "source": [
        "import os\n",
        "import urllib.request\n",
        "import random\n",
        "import zipfile\n",
        "from shutil import copyfile\n",
        "\n",
        "#imports\n",
        "from tensorflow.keras.optimizers import RMSprop #Root Mean Squared Propagation optimization algorithm\n",
        "from tensorflow.keras.applications.inception_v3 import InceptionV3 #the model we will be \"transferring learning\" from\n",
        "from tensorflow.keras import Model #starting point\n",
        "from tensorflow.keras import layers #builds layers of model\n",
        "from tensorflow.keras.preprocessing.image import ImageDataGenerator #creates duplicates of our images that are flipped and rotated\n",
        "\n",
        "\n",
        "#extract zip files from the url into our /tmp/ directory.\n",
        "file_url = \"https://download.microsoft.com/download/3/E/1/3E1C3F21-ECDB-4869-8368-6DEBA77B919F/kagglecatsanddogs_5340.zip\"\n",
        "file_name = \"catsdogs.zip\"\n",
        "download_dir = \"/tmp/\"\n",
        "urllib.request.urlretrieve(file_url, file_name)\n",
        "zipObject = zipfile.ZipFile(file_name, 'r')\n",
        "zipObject.extractall()\n",
        "zipObject.close()"
      ],
      "metadata": {
        "id": "rc_qMAMZC8l8"
      },
      "execution_count": null,
      "outputs": []
    },
    {
      "cell_type": "code",
      "source": [
        "print(\"number of cat images: \", len(os.listdir(\"/content/PetImages/Cat\")))\n",
        "print(\"number of dog images: \", len(os.listdir(\"/content/PetImages/Dog\")))\n"
      ],
      "metadata": {
        "id": "pTBJdhTKGcW_",
        "colab": {
          "base_uri": "https://localhost:8080/"
        },
        "outputId": "55ec9c30-8c33-4999-a7b2-0927d7b3998f"
      },
      "execution_count": 10,
      "outputs": [
        {
          "output_type": "stream",
          "name": "stdout",
          "text": [
            "number of cat images:  12501\n",
            "number of dog images:  12501\n"
          ]
        }
      ]
    },
    {
      "cell_type": "code",
      "source": [
        "try:\n",
        "  os.mkdir('/content/catsDogs')\n",
        "except:\n",
        "  pass\n",
        "#make our testing and training directories for cats and dogs\n",
        "def make(directory):\n",
        "  try:\n",
        "    os.mkdir('/content/CatsDogs/' + directory)\n",
        "    print(\"dir made.\")\n",
        "  except:\n",
        "    pass\n",
        "\n",
        "make(\"training\")\n",
        "make(\"testing\")\n",
        "make(\"training/cats\")\n",
        "make(\"training/dogs\")\n",
        "make(\"testing/cats\")\n",
        "make(\"testing/dogs\")"
      ],
      "metadata": {
        "colab": {
          "base_uri": "https://localhost:8080/"
        },
        "id": "qvhDYZS6G4vg",
        "outputId": "308c4eb4-bb76-4ca9-e038-215feda778e4"
      },
      "execution_count": 17,
      "outputs": [
        {
          "output_type": "execute_result",
          "data": {
            "text/plain": [
              "['.config',\n",
              " 'CDLA-Permissive-2.0.pdf',\n",
              " 'PetImages',\n",
              " 'catsdogs.zip',\n",
              " 'CatsDogs',\n",
              " 'catsDogs',\n",
              " 'readme[1].txt',\n",
              " 'sample_data']"
            ]
          },
          "metadata": {},
          "execution_count": 17
        }
      ]
    },
    {
      "cell_type": "code",
      "source": [
        "#split into test and training sets\n",
        "\n",
        "\n",
        "def placeFile(source_dir, training_dir, testing_dir, train_size):\n",
        "  files = []\n",
        "  for file in os.listdir(source_dir):\n",
        "    file_path = source_dir + file\n",
        "    if os.path.getsize(file) > 0:\n",
        "      files.append(file)\n",
        "    else:\n",
        "      print(file, \" not valid.\")\n",
        "\n",
        "  training_length = len(files) * 0.9\n",
        "  testing_length = len(files) - training_length\n",
        "  files_shuffled = random.sample(files)\n",
        "\n",
        "  training_set = files_shuffled[:training_length]\n",
        "  testing_set = files_shuffled[training_length:]\n",
        "\n",
        "  for filename in training_set:\n",
        "    destination = training_dir + file_name\n",
        "    copyfile(filename, destination)\n",
        "\n",
        "  for filename in testing_set:\n",
        "    destination = testing_dir + file_name\n",
        "    copyfile(filename, destination)\n",
        "\n",
        "  SOURCE_DIR =\n",
        "  DOGS_TRAINING_DIR =\n",
        "  DOGS_TESTING_DIR =\n",
        "  CATD_TRAINING_DIR =\n",
        "  CATS_TESTING_DIR =\n",
        ""
      ],
      "metadata": {
        "colab": {
          "base_uri": "https://localhost:8080/",
          "height": 143
        },
        "id": "XN6zLQkdJ2WM",
        "outputId": "5d59f831-e98c-43a0-ee68-6d38cd2d4330"
      },
      "execution_count": 2,
      "outputs": [
        {
          "output_type": "error",
          "ename": "SyntaxError",
          "evalue": "ignored",
          "traceback": [
            "\u001b[0;36m  File \u001b[0;32m\"<ipython-input-2-1a623a4c4d7e>\"\u001b[0;36m, line \u001b[0;32m26\u001b[0m\n\u001b[0;31m    \u001b[0m\n\u001b[0m    ^\u001b[0m\n\u001b[0;31mSyntaxError\u001b[0m\u001b[0;31m:\u001b[0m incomplete input\n"
          ]
        }
      ]
    },
    {
      "cell_type": "code",
      "source": [],
      "metadata": {
        "id": "oIy4Z5GFffDB"
      },
      "execution_count": null,
      "outputs": []
    }
  ]
}